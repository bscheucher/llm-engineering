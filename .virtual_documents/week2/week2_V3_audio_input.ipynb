import os
import json
from dotenv import load_dotenv
from openai import OpenAI
import gradio as gr
import base64
from io import BytesIO
from PIL import Image


# Initialization

load_dotenv(override=True)

openai_api_key = os.getenv('OPENAI_API_KEY')
if openai_api_key:
    print(f"OpenAI API Key exists and begins {openai_api_key[:8]}")
else:
    print("OpenAI API Key not set")
    
MODEL = "gpt-4o-mini"
openai = OpenAI()




system_message = "You are a helpful assistant for an Airline called FlightAI. "
system_message += "Give short, courteous answers, no more than 1 sentence. "
system_message += "Always be accurate. If you don't know the answer, say so."
system_message += "When booking a flight always check if the desired time is really available."


ticket_prices = {"london": "$799", "paris": "$899", "tokyo": "$1400", "berlin": "$499"}

def get_ticket_price(destination_city):
    print(f"Tool get_ticket_price called for {destination_city}")
    city = destination_city.lower()
    return ticket_prices.get(city, "Unknown")


flight_times = {"london": ["08:00", "11:42", "13:30", "15:47"], "paris": ["07:30", "10:44", "17:30", "22:37"], "tokyo": ["08:54", "14:59"], "berlin": ["06:52", "09:43", "13:56"]}

def get_flight_times(destination_city):
    print(f"Tool get_flight_times called for {destination_city}")
    city = destination_city.lower()
    return flight_times.get(city, "Unknown")    


def book_flight(destination_city, time):
    print(f"Booking flight to {destination_city} at {time}")
    return f"Flight to {destination_city.title()} booked for {time}. Confirmation sent!"


# There's a particular dictionary structure that's required to describe our function:

price_function = {
    "name": "get_ticket_price",
    "description": "Get the price of a return ticket to the destination city. Call this whenever you need to know the ticket price, for example when a customer asks 'How much is a ticket to this city'",
    "parameters": {
        "type": "object",
        "properties": {
            "destination_city": {
                "type": "string",
                "description": "The city that the customer wants to travel to",
            },
        },
        "required": ["destination_city"],
        "additionalProperties": False
    }
}


flight_times_function = {
    "name": "get_flight_times",
    "description": "Get the times of fights to location. Call this whenever you need to know the flight times, for example when a customer want to book a flight to a city, provide him with the time options.",
    "parameters": {
        "type": "object",
        "properties": {
            "destination_city": {
                "type": "string",
                "description": "The city that the customer wants to travel to",
            },
        },
        "required": ["destination_city"],
        "additionalProperties": False
    }
}


book_flight_function = {
    "name": "book_flight",
    "description": "Book a flight to a city at a specific time.",
    "parameters": {
        "type": "object",
        "properties": {
            "destination_city": {
                "type": "string",
                "description": "City to fly to"
            },
            "time": {
                "type": "string",
                "description": "Departure time in HH:MM"
            }
        },
        "required": ["destination_city", "time"]
    }
}



tools = [
    {"type": "function", "function": price_function},
    {"type": "function", "function": flight_times_function},
    {"type": "function", "function": book_flight_function}
]


def handle_tool_call(message):
    tool_responses = []
    for tool_call in message.tool_calls:
        function_name = tool_call.function.name
        arguments = json.loads(tool_call.function.arguments)
        print(f"Handling tool call for function: {function_name}, arguments: {arguments}")
        city = arguments.get("destination_city")

        if function_name == "get_ticket_price":
            result = get_ticket_price(city)
        elif function_name == "get_flight_times":
            result = get_flight_times(city)
        elif function_name == "book_flight":
            time = arguments.get("time")
            result = book_flight(city, time)
        else:
            result = "Unknown function"

        tool_responses.append({
            "role": "tool",
            "tool_call_id": tool_call.id,
            "name": function_name,
            "content": json.dumps(result)
        })
    return tool_responses, city



import base64
from io import BytesIO
from PIL import Image
from IPython.display import Audio, display

def talker(message):
    response = openai.audio.speech.create(
        model="tts-1",
        voice="onyx",
        input=message)

    audio_stream = BytesIO(response.content)
    output_filename = "output_audio.mp3"
    with open(output_filename, "wb") as f:
        f.write(audio_stream.read())

    # Play the generated audio
    display(Audio(output_filename, autoplay=True))


def transcribe(audio_file):
    if not audio_file:
        return "", []
    
    print(f"Transcribing audio: {audio_file}")
    
    with open(audio_file, "rb") as f:
        transcript = openai.audio.transcriptions.create(
            model="whisper-1",
            file=f
        )
    
    text = transcript.text
    print(f"Transcript: {text}")
    
    return text, [{"role": "user", "content": text}]



def chat(message, history):
    messages = [{"role": "system", "content": system_message}] + history + [{"role": "user", "content": message}]
    
    response = openai.chat.completions.create(model=MODEL, messages=messages, tools=tools)
    image = None

    if response.choices[0].finish_reason == "tool_calls":
        assistant_message = response.choices[0].message
        
        tool_messages, city = handle_tool_call(assistant_message)

        # Append assistant tool call message and tool responses
        messages.append(assistant_message)
        messages.extend(tool_messages)
        
        # Send updated messages back to OpenAI
        response = openai.chat.completions.create(model=MODEL, messages=messages)

    reply = response.choices[0].message.content
    history += [{"role":"assistant", "content":reply}]

    # Comment out or delete the next line if you'd rather skip Audio for now..
    talker(reply)
    
    return history


with gr.Blocks() as ui:
    with gr.Row():
        chatbot = gr.Chatbot(height=500, type="messages")
    with gr.Row():
        audio_input = gr.Audio(type="filepath", label="Speak to FlightAI")
    with gr.Row():
        entry = gr.Textbox(label="Chat with our AI Assistant:")
    with gr.Row():
        clear = gr.Button("Clear")

    def do_entry(message, history):
        history += [{"role": "user", "content": message}]
        return "", history

    # Text input flow
    entry.submit(do_entry, inputs=[entry, chatbot], outputs=[entry, chatbot]).then(
        chat, inputs=[entry, chatbot], outputs=[chatbot]
    )

    # Voice input flow
    audio_input.change(
        transcribe,
        inputs=[audio_input],
        outputs=[entry, chatbot]
    ).then(
        chat, inputs=[entry, chatbot], outputs=[chatbot]
    )

    # Clear chat
    clear.click(lambda: None, inputs=None, outputs=chatbot, queue=False)




