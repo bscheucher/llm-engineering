{
 "cells": [
  {
   "cell_type": "markdown",
   "id": "fe12c203-e6a6-452c-a655-afb8a03a4ff5",
   "metadata": {},
   "source": [
    "# End of week 1 exercise\n",
    "\n",
    "To demonstrate your familiarity with OpenAI API, and also Ollama, build a tool that takes a technical question,  \n",
    "and responds with an explanation. This is a tool that you will be able to use yourself during the course!"
   ]
  },
  {
   "cell_type": "code",
   "execution_count": 26,
   "id": "c1070317-3ed9-4659-abe3-828943230e03",
   "metadata": {},
   "outputs": [],
   "source": [
    "# imports\n",
    "import os\n",
    "from dotenv import load_dotenv\n",
    "from openai import OpenAI\n",
    "from IPython.display import Markdown, display, update_display\n",
    "import requests\n",
    "import json"
   ]
  },
  {
   "cell_type": "code",
   "execution_count": 27,
   "id": "4a456906-915a-4bfd-bb9d-57e505c5093f",
   "metadata": {},
   "outputs": [],
   "source": [
    "# constants\n",
    "MODEL_GPT = 'gpt-4o-mini'\n",
    "MODEL_LLAMA = 'llama3.2'"
   ]
  },
  {
   "cell_type": "code",
   "execution_count": 14,
   "id": "a8d7923c-5f28-4c30-8556-342d7c8497c1",
   "metadata": {},
   "outputs": [
    {
     "name": "stdout",
     "output_type": "stream",
     "text": [
      "API key looks good so far\n"
     ]
    }
   ],
   "source": [
    "# set up environment\n",
    "load_dotenv(override=True)\n",
    "api_key = os.getenv('OPENAI_API_KEY')\n",
    "\n",
    "if api_key and api_key.startswith('sk-proj-') and len(api_key)>10:\n",
    "    print(\"API key looks good so far\")\n",
    "else:\n",
    "    print(\"There might be a problem with your API key? Please visit the troubleshooting notebook!\")"
   ]
  },
  {
   "cell_type": "code",
   "execution_count": 28,
   "id": "3f0d0137-52b0-47a8-81a8-11a90a010798",
   "metadata": {},
   "outputs": [],
   "source": [
    "# here is the question; type over this to ask something new\n",
    "\n",
    "question = \"\"\"\n",
    "Please explain what this code does and why:\n",
    "yield from {book.get(\"author\") for book in books if book.get(\"author\")}\n",
    "\"\"\""
   ]
  },
  {
   "cell_type": "code",
   "execution_count": 19,
   "id": "60ce7000-a4a5-4cce-a261-e75ef45063b4",
   "metadata": {},
   "outputs": [
    {
     "data": {
      "text/markdown": [
       "This line of code is using a combination of Python's generator feature and set comprehension to yield authors from a collection of book dictionaries.\n",
       "\n",
       "Here's a breakdown of each part:\n",
       "\n",
       "1. **Set Comprehension**: The `{book.get(\"author\") for book in books if book.get(\"author\")}` part creates a set of authors from the list (or iterable) named `books`. A set is used here to ensure that each author is unique — meaning if there are multiple books by the same author, that author's name will only appear once in the resulting set.\n",
       "\n",
       "   - `book.get(\"author\")`: This method retrieves the value associated with the key `\"author\"` from each `book` dictionary. If a book does not have an `\"author\"` key, `get()` will return `None` (or a specified default value if provided).\n",
       "   - `for book in books`: This iterates over each `book` in the `books` collection.\n",
       "   - `if book.get(\"author\")`: This condition filters out any books that do not have an author specified (i.e., those that return `None` when calling `get(\"author\")`).\n",
       "\n",
       "2. **`yield from`**: The `yield from` syntax is used to yield all values from the given iterable. In this case, it will yield each unique author found in the set created by the comprehension. By using `yield from` instead of just `yield`, the function in which this line is written will act as a generator, allowing it to produce values one at a time and efficiently.\n",
       "\n",
       "In summary, the entire line of code is a generator expression that will yield each unique author from a collection of book dictionaries, skipping any entries where the author is not specified. The structure helps manage memory efficiently by producing authors one at a time rather than generating a complete list at once."
      ],
      "text/plain": [
       "<IPython.core.display.Markdown object>"
      ]
     },
     "metadata": {},
     "output_type": "display_data"
    }
   ],
   "source": [
    "# Get gpt-4o-mini to answer, with streaming\n",
    "openai = OpenAI()\n",
    "\n",
    "system_prompt = \"You are an assistant that takes a technical question, and responds with an explanation.\"\n",
    "user_prompt = \"I have a technical question:\"\n",
    "user_prompt += question\n",
    "\n",
    "def stream_answer():\n",
    "    stream = openai.chat.completions.create(\n",
    "        model=MODEL_GPT,\n",
    "        messages=[\n",
    "            {\"role\": \"system\", \"content\": system_prompt},\n",
    "            {\"role\": \"user\", \"content\": user_prompt}\n",
    "          ],\n",
    "        stream=True\n",
    "    )\n",
    "    \n",
    "    response = \"\"\n",
    "    display_handle = display(Markdown(\"\"), display_id=True)\n",
    "    for chunk in stream:\n",
    "        response += chunk.choices[0].delta.content or ''\n",
    "        response = response.replace(\"```\",\"\").replace(\"markdown\", \"\")\n",
    "        update_display(Markdown(response), display_id=display_handle.display_id)\n",
    "\n",
    "stream_answer()"
   ]
  },
  {
   "cell_type": "code",
   "execution_count": 29,
   "id": "8f7c8ea8-4082-4ad0-8751-3301adcf6538",
   "metadata": {},
   "outputs": [],
   "source": [
    "# Get Llama 3.2 to answer\n",
    "OLLAMA_API = \"http://localhost:11434/api/chat\"\n",
    "HEADERS = {\"Content-Type\": \"application/json\"}"
   ]
  },
  {
   "cell_type": "code",
   "execution_count": 31,
   "id": "c00d0618-fe83-4e55-8d55-ec73efbf0714",
   "metadata": {},
   "outputs": [
    {
     "data": {
      "text/markdown": [
       "**Explanation of the Code**\n",
       "\n",
       "The given code snippet is written in Python and utilizes several advanced features, including generators and dictionary iteration.\n",
       "\n",
       "Here's a breakdown of what the code does:\n",
       "\n",
       "1. `{book.get(\"author\") for book in books if book.get(\"author\")}`: This part is called a **dictionary comprehension** or more accurately, an iterator expression. It iterates over each item in the `books` collection (which can be a list, dictionary, or any other iterable) that contains a key named `\"author\"`.\n",
       "\n",
       "2. `yield from`: The `yield from` statement is used to delegate part of the execution of the generator function to another generator. When you use `yield from`, it \"yields\" each item from the delegated generator, rather than trying to yield them one by one itself. This can significantly improve performance when dealing with large datasets.\n",
       "\n",
       "**Putting it all Together**\n",
       "\n",
       "When combined, these two elements create a **generator expression**:\n",
       "\n",
       "`yield from {book.get(\"author\") for book in books if book.get(\"author\")}`\n",
       "\n",
       "This generator expression takes each item `book` that contains the key `\"author\"`, yields its value (`book.get(\"author\")`), and then uses `yield from` to delegate these yielded values to another generator.\n",
       "\n",
       "However, there is an issue with the given code. The dictionary comprehension `{...}` is not a valid Python syntax. It should be replaced with `({book.get(\"author\")} for book in books if book.get(\"author\"))`.\n",
       "\n",
       "Here's how you can use this expression correctly:\n",
       "\n",
       "python\n",
       "def get_authors(books):\n",
       "    authors = ({book.get(\"author\")} for book in books if book.get(\"author\"))\n",
       "    return authors\n",
       "\n",
       "# Usage:\n",
       "authors = get_authors([{\"title\": \"Book1\", \"author\": \"AuthorA\"}, {\"title\": \"Book2\", \"author\": \"AuthorB\"}])\n",
       "for author in authors:\n",
       "    print(author)\n",
       "\n",
       "\n",
       "In this corrected example, the generator expression correctly yields each unique author's name.\n",
       "\n",
       "**Why Use `yield from`?**\n",
       "\n",
       "The use of `yield from` here allows you to avoid creating an intermediate list of all book authors and then using that list. Instead, it directly iterates over each unique author in a lazy manner, which can be more memory-efficient when working with large datasets."
      ],
      "text/plain": [
       "<IPython.core.display.Markdown object>"
      ]
     },
     "metadata": {},
     "output_type": "display_data"
    }
   ],
   "source": [
    "system_prompt = \"You are an assistant that takes a technical question, and responds with an explanation.\"\n",
    "user_prompt = \"I have a technical question:\"\n",
    "user_prompt += question\n",
    "\n",
    "def stream_answer():\n",
    "    payload = {\n",
    "        \"model\": MODEL_LLAMA,\n",
    "        \"messages\": [\n",
    "            {\"role\": \"system\", \"content\": system_prompt},\n",
    "            {\"role\": \"user\", \"content\": user_prompt}\n",
    "        ],\n",
    "        \"stream\": True\n",
    "    }\n",
    "\n",
    "    response = requests.post(OLLAMA_API, headers=HEADERS, data=json.dumps(payload), stream=True)\n",
    "\n",
    "    full_response = \"\"\n",
    "    display_handle = display(Markdown(\"\"), display_id=True)\n",
    "\n",
    "    for line in response.iter_lines():\n",
    "        if line:\n",
    "            try:\n",
    "                chunk = json.loads(line.decode(\"utf-8\"))\n",
    "                delta = chunk.get(\"message\", {}).get(\"content\", \"\")\n",
    "                full_response += delta\n",
    "                cleaned = full_response.replace(\"```\", \"\").replace(\"markdown\", \"\")\n",
    "                update_display(Markdown(cleaned), display_id=display_handle.display_id)\n",
    "            except Exception as e:\n",
    "                print(\"Error decoding line:\", line, e)\n",
    "\n",
    "stream_answer()"
   ]
  },
  {
   "cell_type": "code",
   "execution_count": null,
   "id": "82b28d89-987e-4134-b55a-b73a6a604ac5",
   "metadata": {},
   "outputs": [],
   "source": []
  }
 ],
 "metadata": {
  "kernelspec": {
   "display_name": "Python 3 (ipykernel)",
   "language": "python",
   "name": "python3"
  },
  "language_info": {
   "codemirror_mode": {
    "name": "ipython",
    "version": 3
   },
   "file_extension": ".py",
   "mimetype": "text/x-python",
   "name": "python",
   "nbconvert_exporter": "python",
   "pygments_lexer": "ipython3",
   "version": "3.11.11"
  }
 },
 "nbformat": 4,
 "nbformat_minor": 5
}
