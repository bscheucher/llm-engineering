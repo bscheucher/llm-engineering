{
 "cells": [
  {
   "cell_type": "code",
   "execution_count": 64,
   "id": "58c5074c-e8ca-40ca-871f-fc271c86e381",
   "metadata": {},
   "outputs": [],
   "source": [
    "import os\n",
    "import json\n",
    "from dotenv import load_dotenv\n",
    "from openai import OpenAI\n",
    "import gradio as gr"
   ]
  },
  {
   "cell_type": "code",
   "execution_count": 65,
   "id": "866fc93f-9d59-4868-86c8-619f5383a7b6",
   "metadata": {},
   "outputs": [
    {
     "name": "stdout",
     "output_type": "stream",
     "text": [
      "OpenAI API Key exists and begins sk-proj-\n"
     ]
    }
   ],
   "source": [
    "# Initialization\n",
    "\n",
    "load_dotenv(override=True)\n",
    "\n",
    "openai_api_key = os.getenv('OPENAI_API_KEY')\n",
    "if openai_api_key:\n",
    "    print(f\"OpenAI API Key exists and begins {openai_api_key[:8]}\")\n",
    "else:\n",
    "    print(\"OpenAI API Key not set\")\n",
    "    \n",
    "MODEL = \"gpt-4o-mini\"\n",
    "openai = OpenAI()\n",
    "\n"
   ]
  },
  {
   "cell_type": "code",
   "execution_count": 77,
   "id": "bcabe6e4-a93e-43d5-95d4-9e467beb255c",
   "metadata": {},
   "outputs": [],
   "source": [
    "system_message = \"You are a helpful assistant for an Airline called FlightAI. \"\n",
    "system_message += \"Give short, courteous answers, no more than 1 sentence. \"\n",
    "system_message += \"Always be accurate. If you don't know the answer, say so.\"\n",
    "system_message += \"When booking a flight always check if the desired time is really available.\""
   ]
  },
  {
   "cell_type": "code",
   "execution_count": 78,
   "id": "286cecfa-1024-4e50-b6c1-b08c7150a088",
   "metadata": {},
   "outputs": [],
   "source": [
    "ticket_prices = {\"london\": \"$799\", \"paris\": \"$899\", \"tokyo\": \"$1400\", \"berlin\": \"$499\"}\n",
    "\n",
    "def get_ticket_price(destination_city):\n",
    "    print(f\"Tool get_ticket_price called for {destination_city}\")\n",
    "    city = destination_city.lower()\n",
    "    return ticket_prices.get(city, \"Unknown\")"
   ]
  },
  {
   "cell_type": "code",
   "execution_count": 79,
   "id": "410a1c4c-10f0-429b-8bfd-674e303927c9",
   "metadata": {},
   "outputs": [],
   "source": [
    "flight_times = {\"london\": [\"08:00\", \"11:42\", \"13:30\", \"15:47\"], \"paris\": [\"07:30\", \"10:44\", \"17:30\", \"22:37\"], \"tokyo\": [\"08:54\", \"14:59\"], \"berlin\": [\"06:52\", \"09:43\", \"13:56\"]}\n",
    "\n",
    "def get_flight_times(destination_city):\n",
    "    print(f\"Tool get_flight_times called for {destination_city}\")\n",
    "    city = destination_city.lower()\n",
    "    return flight_times.get(city, \"Unknown\")    "
   ]
  },
  {
   "cell_type": "code",
   "execution_count": 80,
   "id": "7015f017-46bc-4559-a8fe-456eef645c0c",
   "metadata": {},
   "outputs": [],
   "source": [
    "def book_flight(destination_city, time):\n",
    "    print(f\"Booking flight to {destination_city} at {time}\")\n",
    "    return f\"Flight to {destination_city.title()} booked for {time}. Confirmation sent!\""
   ]
  },
  {
   "cell_type": "code",
   "execution_count": 81,
   "id": "257efdd6-8ac0-4b9e-93eb-2c643f2620a2",
   "metadata": {},
   "outputs": [],
   "source": [
    "# There's a particular dictionary structure that's required to describe our function:\n",
    "\n",
    "price_function = {\n",
    "    \"name\": \"get_ticket_price\",\n",
    "    \"description\": \"Get the price of a return ticket to the destination city. Call this whenever you need to know the ticket price, for example when a customer asks 'How much is a ticket to this city'\",\n",
    "    \"parameters\": {\n",
    "        \"type\": \"object\",\n",
    "        \"properties\": {\n",
    "            \"destination_city\": {\n",
    "                \"type\": \"string\",\n",
    "                \"description\": \"The city that the customer wants to travel to\",\n",
    "            },\n",
    "        },\n",
    "        \"required\": [\"destination_city\"],\n",
    "        \"additionalProperties\": False\n",
    "    }\n",
    "}"
   ]
  },
  {
   "cell_type": "code",
   "execution_count": 82,
   "id": "8b3f6929-e247-430f-b086-9ff9e551bd05",
   "metadata": {},
   "outputs": [],
   "source": [
    "flight_times_function = {\n",
    "    \"name\": \"get_flight_times\",\n",
    "    \"description\": \"Get the times of fights to location. Call this whenever you need to know the flight times, for example when a customer want to book a flight to a city, provide him with the time options.\",\n",
    "    \"parameters\": {\n",
    "        \"type\": \"object\",\n",
    "        \"properties\": {\n",
    "            \"destination_city\": {\n",
    "                \"type\": \"string\",\n",
    "                \"description\": \"The city that the customer wants to travel to\",\n",
    "            },\n",
    "        },\n",
    "        \"required\": [\"destination_city\"],\n",
    "        \"additionalProperties\": False\n",
    "    }\n",
    "}"
   ]
  },
  {
   "cell_type": "code",
   "execution_count": 83,
   "id": "4bd051cb-366c-4469-bbdc-31643b55ee8b",
   "metadata": {},
   "outputs": [],
   "source": [
    "book_flight_function = {\n",
    "    \"name\": \"book_flight\",\n",
    "    \"description\": \"Book a flight to a city at a specific time.\",\n",
    "    \"parameters\": {\n",
    "        \"type\": \"object\",\n",
    "        \"properties\": {\n",
    "            \"destination_city\": {\n",
    "                \"type\": \"string\",\n",
    "                \"description\": \"City to fly to\"\n",
    "            },\n",
    "            \"time\": {\n",
    "                \"type\": \"string\",\n",
    "                \"description\": \"Departure time in HH:MM\"\n",
    "            }\n",
    "        },\n",
    "        \"required\": [\"destination_city\", \"time\"]\n",
    "    }\n",
    "}\n"
   ]
  },
  {
   "cell_type": "code",
   "execution_count": 84,
   "id": "61a75b53-d4d7-4d4b-bcc9-5bb25d7bad78",
   "metadata": {},
   "outputs": [],
   "source": [
    "tools = [\n",
    "    {\"type\": \"function\", \"function\": price_function},\n",
    "    {\"type\": \"function\", \"function\": flight_times_function},\n",
    "    {\"type\": \"function\", \"function\": book_flight_function}\n",
    "]"
   ]
  },
  {
   "cell_type": "code",
   "execution_count": 85,
   "id": "77f40407-840a-49f5-ba8d-22981c6d2dba",
   "metadata": {},
   "outputs": [],
   "source": [
    "def chat(message, history):\n",
    "    messages = [{\"role\": \"system\", \"content\": system_message}] + history + [{\"role\": \"user\", \"content\": message}]\n",
    "    \n",
    "    response = openai.chat.completions.create(model=MODEL, messages=messages, tools=tools)\n",
    "\n",
    "    if response.choices[0].finish_reason == \"tool_calls\":\n",
    "        assistant_message = response.choices[0].message\n",
    "        \n",
    "        tool_messages = handle_tool_call(assistant_message)\n",
    "\n",
    "        # Append assistant tool call message and tool responses\n",
    "        messages.append(assistant_message)\n",
    "        messages.extend(tool_messages)\n",
    "\n",
    "        # Send updated messages back to OpenAI\n",
    "        response = openai.chat.completions.create(model=MODEL, messages=messages)\n",
    "\n",
    "    return response.choices[0].message.content\n"
   ]
  },
  {
   "cell_type": "code",
   "execution_count": 86,
   "id": "927d3fc7-c1ea-4c2d-9c37-116157d937f2",
   "metadata": {},
   "outputs": [],
   "source": [
    "def handle_tool_call(message):\n",
    "    tool_responses = []\n",
    "    for tool_call in message.tool_calls:\n",
    "        function_name = tool_call.function.name\n",
    "        arguments = json.loads(tool_call.function.arguments)\n",
    "        print(f\"Handling tool call for function: {function_name}, arguments: {arguments}\")\n",
    "        city = arguments.get(\"destination_city\")\n",
    "\n",
    "        if function_name == \"get_ticket_price\":\n",
    "            result = get_ticket_price(city)\n",
    "        elif function_name == \"get_flight_times\":\n",
    "            result = get_flight_times(city)\n",
    "        elif function_name == \"book_flight\":\n",
    "            time = arguments.get(\"time\")\n",
    "            result = book_flight(city, time)\n",
    "        else:\n",
    "            result = \"Unknown function\"\n",
    "\n",
    "        tool_responses.append({\n",
    "            \"role\": \"tool\",\n",
    "            \"tool_call_id\": tool_call.id,\n",
    "            \"name\": function_name,\n",
    "            \"content\": json.dumps(result)\n",
    "        })\n",
    "    return tool_responses\n"
   ]
  },
  {
   "cell_type": "code",
   "execution_count": 87,
   "id": "46f5a52f-3259-4820-a9e8-3c949548ede4",
   "metadata": {},
   "outputs": [
    {
     "name": "stdout",
     "output_type": "stream",
     "text": [
      "* Running on local URL:  http://127.0.0.1:7869\n",
      "\n",
      "To create a public link, set `share=True` in `launch()`.\n"
     ]
    },
    {
     "data": {
      "text/html": [
       "<div><iframe src=\"http://127.0.0.1:7869/\" width=\"100%\" height=\"500\" allow=\"autoplay; camera; microphone; clipboard-read; clipboard-write;\" frameborder=\"0\" allowfullscreen></iframe></div>"
      ],
      "text/plain": [
       "<IPython.core.display.HTML object>"
      ]
     },
     "metadata": {},
     "output_type": "display_data"
    },
    {
     "data": {
      "text/plain": []
     },
     "execution_count": 87,
     "metadata": {},
     "output_type": "execute_result"
    },
    {
     "name": "stdout",
     "output_type": "stream",
     "text": [
      "Handling tool call for function: get_flight_times, arguments: {'destination_city': 'Berlin'}\n",
      "Tool get_flight_times called for Berlin\n"
     ]
    }
   ],
   "source": [
    "gr.ChatInterface(fn=chat, type=\"messages\").launch()"
   ]
  },
  {
   "cell_type": "code",
   "execution_count": null,
   "id": "a5e61cf9-21b7-4a7b-aa40-75c8b2493c8e",
   "metadata": {},
   "outputs": [],
   "source": []
  }
 ],
 "metadata": {
  "kernelspec": {
   "display_name": "Python 3 (ipykernel)",
   "language": "python",
   "name": "python3"
  },
  "language_info": {
   "codemirror_mode": {
    "name": "ipython",
    "version": 3
   },
   "file_extension": ".py",
   "mimetype": "text/x-python",
   "name": "python",
   "nbconvert_exporter": "python",
   "pygments_lexer": "ipython3",
   "version": "3.11.12"
  }
 },
 "nbformat": 4,
 "nbformat_minor": 5
}
